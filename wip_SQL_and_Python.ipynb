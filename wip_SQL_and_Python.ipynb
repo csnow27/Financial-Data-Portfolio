{
 "cells": [
  {
   "cell_type": "markdown",
   "id": "81261366-5b44-471b-8986-709cb1edc157",
   "metadata": {},
   "source": [
    "## Using SQL with Python\n",
    "\n",
    "The sqlite3 Python package can be used to integrate SQLite databases with Python. The database I am using has 5 unique tables, as follows:\n",
    "1) Customer\n",
    "2) Distributor\n",
    "3) Order Data\n",
    "4) Order_Line\n",
    "5) Product"
   ]
  },
  {
   "cell_type": "code",
   "execution_count": 2,
   "id": "f2eaa248-b358-49e8-9e59-42a926f2dc71",
   "metadata": {},
   "outputs": [],
   "source": [
    "# Code to print multiple outputs from a cell in Jupyter\n",
    "get_ipython().ast_node_interactivity = 'all'"
   ]
  },
  {
   "cell_type": "code",
   "execution_count": 4,
   "id": "309b5cc7-e3e7-4c75-ab37-da11231ce5dd",
   "metadata": {},
   "outputs": [],
   "source": [
    "# Importing the package and connecting to the SQLite database\n",
    "import sqlite3\n",
    "connection = sqlite3.connect('coke.db')"
   ]
  },
  {
   "cell_type": "code",
   "execution_count": 6,
   "id": "ae33017c-396f-427d-8af1-3a195850589b",
   "metadata": {},
   "outputs": [
    {
     "name": "stdout",
     "output_type": "stream",
     "text": [
      "(23, \"Dave's Sub Shop\", 'David Logan', '(555) 333-4545')\n",
      "(43, 'Pizza Palace', 'Debbie Fernandez', '(555) 345-5432')\n",
      "(765, \"T's Fun Zone\", 'Tom Repicci', '(555) 565-7766')\n"
     ]
    }
   ],
   "source": [
    "# Start off with looking at the entire customer table\n",
    "customer = connection.execute('SELECT * FROM CUSTOMER')\n",
    "for item in customer:\n",
    "    print(item)"
   ]
  },
  {
   "cell_type": "markdown",
   "id": "52a1f08f-604a-48f5-b561-51967686f170",
   "metadata": {},
   "source": [
    "Each row of the table becomes a tuple in Python. Since we used the * after the SELECT statement, it selected all 4 columns from the table, which are as follows:\n",
    "1) Customer ID\n",
    "2) Name\n",
    "3) Contact\n",
    "4) Phone Number"
   ]
  },
  {
   "cell_type": "markdown",
   "id": "71a232ae-b59f-43a1-b48d-b7a4166723e5",
   "metadata": {},
   "source": [
    "### Indexing\n",
    "\n",
    "While tuples are not able to be modified, we can index the results to format the data how we please."
   ]
  },
  {
   "cell_type": "code",
   "execution_count": 9,
   "id": "3492320e-1862-483b-be3f-e0231c226eb7",
   "metadata": {},
   "outputs": [
    {
     "name": "stdout",
     "output_type": "stream",
     "text": [
      "The phone number for Dave's Sub Shop is (555) 333-4545\n",
      "The phone number for Pizza Palace is (555) 345-5432\n",
      "The phone number for T's Fun Zone is (555) 565-7766\n"
     ]
    }
   ],
   "source": [
    "customer = connection.execute('SELECT * FROM CUSTOMER')\n",
    "for item in customer:\n",
    "    print(f'The phone number for {item[1]} is {item[3]}') "
   ]
  },
  {
   "cell_type": "markdown",
   "id": "6954cdac-f73c-4740-a823-b319b5c92725",
   "metadata": {},
   "source": [
    "### Closing the connection\n",
    "\n",
    "It's important to remember to close the database connection object when done working with it. With Jupyter Lab, this is less important because the kernel ends (and thus the connection closes) when you shut down Jupyter. However, with a more sophisticated DBMS that is connecting to a database remotely, it is important to sever the connection before ending your program. Overall, it's a good habit to get into."
   ]
  },
  {
   "cell_type": "code",
   "execution_count": 11,
   "id": "a9b55c64-7512-4b87-a4ef-e23c43378d68",
   "metadata": {},
   "outputs": [],
   "source": [
    "# Code to close the connection\n",
    "connection.close() "
   ]
  },
  {
   "cell_type": "markdown",
   "id": "812fd873-71bf-4c48-875d-88815ad1c50d",
   "metadata": {},
   "source": [
    "## The rest of the tables"
   ]
  },
  {
   "cell_type": "code",
   "execution_count": 13,
   "id": "1fd3be32-bef5-4342-8526-4f0f68c0ac1d",
   "metadata": {},
   "outputs": [],
   "source": [
    "# Re-Connect \n",
    "connection = sqlite3.connect('coke.db')"
   ]
  },
  {
   "cell_type": "code",
   "execution_count": 14,
   "id": "e8e3b52b-a66d-4c00-90bf-dbcf1c7e1fc0",
   "metadata": {},
   "outputs": [
    {
     "name": "stdout",
     "output_type": "stream",
     "text": [
      "('DEN8001', 'Hawkins Shipping')\n",
      "('CHI3001', 'ABC Trucking')\n",
      "('NY9001', 'Van Distributors')\n"
     ]
    }
   ],
   "source": [
    "# Distributor Table\n",
    "distributor = connection.execute('SELECT * FROM DISTRIBUTOR')\n",
    "for item in distributor:\n",
    "    print(item)"
   ]
  },
  {
   "cell_type": "markdown",
   "id": "8d9427e0-70fb-4760-aa51-ce0fbf7b8b6a",
   "metadata": {},
   "source": [
    "The column headers are:\n",
    "1) Distributor ID\n",
    "2) Name"
   ]
  },
  {
   "cell_type": "code",
   "execution_count": 15,
   "id": "9e9b791a-7371-4b09-aa3c-cc34067fcf30",
   "metadata": {},
   "outputs": [
    {
     "name": "stdout",
     "output_type": "stream",
     "text": [
      "(34561, '7/4/2008', 23, 'DEN8001', 145.75)\n",
      "(34562, '8/6/2008', 23, 'DEN8001', 67.75)\n",
      "(34563, '6/5/2008', 765, 'NY9001', 249.5)\n"
     ]
    }
   ],
   "source": [
    "# Order Data Table\n",
    "order_data = connection.execute('SELECT * FROM ORDERDATA')\n",
    "for item in order_data:\n",
    "    print(item)"
   ]
  },
  {
   "cell_type": "markdown",
   "id": "dbeb193f-b7d7-4ba4-86a7-4b91a98aab7d",
   "metadata": {},
   "source": [
    "The column headers are:\n",
    "1) Order ID\n",
    "2) Order Date\n",
    "3) Customer ID\n",
    "4) Distributor ID\n",
    "5) Total Due"
   ]
  },
  {
   "cell_type": "code",
   "execution_count": 16,
   "id": "e77f67f6-f899-47de-86ac-bd525fd10ef5",
   "metadata": {},
   "outputs": [
    {
     "name": "stdout",
     "output_type": "stream",
     "text": [
      "(34561, 1, '12345AA', 75)\n",
      "(34561, 2, '12346BB', 50)\n",
      "(34561, 3, '12347CC', 100)\n",
      "(34562, 1, '12349EE', 300)\n",
      "(34563, 1, '12345AA', 100)\n",
      "(34563, 2, '12346BB', 100)\n",
      "(34563, 3, '12347CC', 50)\n",
      "(34563, 4, '12348DD', 50)\n",
      "(34563, 5, '12349EE', 100)\n"
     ]
    }
   ],
   "source": [
    "# Order Line Table\n",
    "order_line = connection.execute('SELECT * FROM ORDER_LINE')\n",
    "for item in order_line:\n",
    "    print(item)"
   ]
  },
  {
   "cell_type": "markdown",
   "id": "76058277-6cdd-4c1f-bc4c-7e32b9db0310",
   "metadata": {},
   "source": [
    "The column headers are:\n",
    "1) Order ID\n",
    "2) Line Item\n",
    "3) Product ID\n",
    "4) Quantity"
   ]
  },
  {
   "cell_type": "code",
   "execution_count": 17,
   "id": "d05e0696-8419-46b4-8adf-41203087665d",
   "metadata": {},
   "outputs": [
    {
     "name": "stdout",
     "output_type": "stream",
     "text": [
      "('12345AA', 'Coca-Cola', 0.55)\n",
      "('12346BB', 'Diet Coke', 0.55)\n",
      "('12347CC', 'Sprite', 0.55)\n",
      "('12348DD', 'Diet Sprite', 0.55)\n",
      "('12349EE', 'Vanilla Coke', 0.55)\n"
     ]
    }
   ],
   "source": [
    "# Product Table\n",
    "product = connection.execute('SELECT * FROM PRODUCT')\n",
    "for item in product:\n",
    "    print(item)"
   ]
  },
  {
   "cell_type": "markdown",
   "id": "c0c350d6-ef7e-42c9-bdb2-311661a79413",
   "metadata": {},
   "source": [
    "The column headers are:\n",
    "1) Product ID\n",
    "2) Description\n",
    "3) Price"
   ]
  },
  {
   "cell_type": "markdown",
   "id": "2de1b6c7-fc20-462a-80fc-c624d9d09c07",
   "metadata": {},
   "source": [
    "# Querying\n",
    "\n",
    "Now that we have seen all the tables in the dataset, we can start querying the data to get the answers we want. As you may have realized, all the tables are connected in some way through related columns. For example, both the Product and Order Line tables have a Product ID variable. We can use those to get the information we want across all the tables in the data."
   ]
  },
  {
   "cell_type": "code",
   "execution_count": 18,
   "id": "b19d4cee-bdf6-4a77-ba42-107d368a3e50",
   "metadata": {},
   "outputs": [],
   "source": [
    "# wip"
   ]
  }
 ],
 "metadata": {
  "kernelspec": {
   "display_name": "Python 3 (ipykernel)",
   "language": "python",
   "name": "python3"
  },
  "language_info": {
   "codemirror_mode": {
    "name": "ipython",
    "version": 3
   },
   "file_extension": ".py",
   "mimetype": "text/x-python",
   "name": "python",
   "nbconvert_exporter": "python",
   "pygments_lexer": "ipython3",
   "version": "3.9.13"
  }
 },
 "nbformat": 4,
 "nbformat_minor": 5
}
